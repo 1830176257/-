{
 "cells": [
  {
   "cell_type": "code",
   "execution_count": 1,
   "id": "df193517",
   "metadata": {
    "_cell_guid": "b1076dfc-b9ad-4769-8c92-a6c4dae69d19",
    "_uuid": "8f2839f25d086af736a60e9eeb907d3b93b6e0e5",
    "execution": {
     "iopub.execute_input": "2022-06-09T03:41:00.570469Z",
     "iopub.status.busy": "2022-06-09T03:41:00.569876Z",
     "iopub.status.idle": "2022-06-09T03:41:00.588489Z",
     "shell.execute_reply": "2022-06-09T03:41:00.587634Z"
    },
    "papermill": {
     "duration": 0.026582,
     "end_time": "2022-06-09T03:41:00.591245",
     "exception": false,
     "start_time": "2022-06-09T03:41:00.564663",
     "status": "completed"
    },
    "tags": []
   },
   "outputs": [
    {
     "name": "stdout",
     "output_type": "stream",
     "text": [
      "/kaggle/input/afafgf/my_functions.py\n"
     ]
    }
   ],
   "source": [
    "# This Python 3 environment comes with many helpful analytics libraries installed\n",
    "# It is defined by the kaggle/python Docker image: https://github.com/kaggle/docker-python\n",
    "# For example, here's several helpful packages to load\n",
    "\n",
    "import numpy as np # linear algebra\n",
    "import pandas as pd # data processing, CSV file I/O (e.g. pd.read_csv)\n",
    "\n",
    "# Input data files are available in the read-only \"../input/\" directory\n",
    "# For example, running this (by clicking run or pressing Shift+Enter) will list all files under the input directory\n",
    "\n",
    "import os\n",
    "for dirname, _, filenames in os.walk('/kaggle/input'):\n",
    "    for filename in filenames:\n",
    "        print(os.path.join(dirname, filename))\n",
    "\n",
    "# You can write up to 20GB to the current directory (/kaggle/working/) that gets preserved as output when you create a version using \"Save & Run All\" \n",
    "# You can also write temporary files to /kaggle/temp/, but they won't be saved outside of the current session"
   ]
  },
  {
   "cell_type": "code",
   "execution_count": 2,
   "id": "3ea19754",
   "metadata": {
    "execution": {
     "iopub.execute_input": "2022-06-09T03:41:00.597981Z",
     "iopub.status.busy": "2022-06-09T03:41:00.596856Z",
     "iopub.status.idle": "2022-06-09T03:41:00.606394Z",
     "shell.execute_reply": "2022-06-09T03:41:00.605541Z"
    },
    "papermill": {
     "duration": 0.014798,
     "end_time": "2022-06-09T03:41:00.608522",
     "exception": false,
     "start_time": "2022-06-09T03:41:00.593724",
     "status": "completed"
    },
    "tags": []
   },
   "outputs": [
    {
     "name": "stdout",
     "output_type": "stream",
     "text": [
      "hello world\n"
     ]
    }
   ],
   "source": [
    "# import module we'll need to import our custom module\n",
    "from shutil import copyfile\n",
    " \n",
    "# copy our file into the working directory (make sure it has .py suffix)\n",
    "copyfile(src = \"../input/afafgf/my_functions.py\", dst = \"../working/my_functions.py\")\n",
    " \n",
    "# import all our functions\n",
    "from my_functions import *\n",
    " \n",
    "# we can now use this function!\n",
    "aa()"
   ]
  },
  {
   "cell_type": "code",
   "execution_count": null,
   "id": "1e454fdd",
   "metadata": {
    "papermill": {
     "duration": 0.001931,
     "end_time": "2022-06-09T03:41:00.612782",
     "exception": false,
     "start_time": "2022-06-09T03:41:00.610851",
     "status": "completed"
    },
    "tags": []
   },
   "outputs": [],
   "source": []
  }
 ],
 "metadata": {
  "kernelspec": {
   "display_name": "Python 3",
   "language": "python",
   "name": "python3"
  },
  "language_info": {
   "codemirror_mode": {
    "name": "ipython",
    "version": 3
   },
   "file_extension": ".py",
   "mimetype": "text/x-python",
   "name": "python",
   "nbconvert_exporter": "python",
   "pygments_lexer": "ipython3",
   "version": "3.7.12"
  },
  "papermill": {
   "default_parameters": {},
   "duration": 12.164139,
   "end_time": "2022-06-09T03:41:01.539485",
   "environment_variables": {},
   "exception": null,
   "input_path": "__notebook__.ipynb",
   "output_path": "__notebook__.ipynb",
   "parameters": {},
   "start_time": "2022-06-09T03:40:49.375346",
   "version": "2.3.4"
  }
 },
 "nbformat": 4,
 "nbformat_minor": 5
}
